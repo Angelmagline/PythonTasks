{
 "cells": [
  {
   "cell_type": "code",
   "execution_count": 3,
   "id": "d67ad1cb-63f8-4ebf-80a1-3453ca1f8f38",
   "metadata": {},
   "outputs": [
    {
     "name": "stdout",
     "output_type": "stream",
     "text": [
      "1 \n",
      "1 2 \n",
      "1 2 3 \n",
      "1 2 3 4 \n"
     ]
    }
   ],
   "source": [
    "#3.Incremental number triangle\n",
    "\n",
    "#1\n",
    "#1 2\n",
    "#1 2 3\n",
    "#1 2 3 4\n",
    "\n",
    "#Nested if\n",
    "\n",
    "for i in range (1,5):\n",
    "    if i >= 1:\n",
    "        if i <= 4:\n",
    "            for j in range(1,i+1):\n",
    "                print (j, end =\" \")\n",
    "        print()\n",
    "   "
   ]
  },
  {
   "cell_type": "code",
   "execution_count": null,
   "id": "8cacb94f-d44a-4ba9-a7bf-ec4baf9151d5",
   "metadata": {},
   "outputs": [],
   "source": []
  }
 ],
 "metadata": {
  "kernelspec": {
   "display_name": "Python 3 (ipykernel)",
   "language": "python",
   "name": "python3"
  },
  "language_info": {
   "codemirror_mode": {
    "name": "ipython",
    "version": 3
   },
   "file_extension": ".py",
   "mimetype": "text/x-python",
   "name": "python",
   "nbconvert_exporter": "python",
   "pygments_lexer": "ipython3",
   "version": "3.13.7"
  }
 },
 "nbformat": 4,
 "nbformat_minor": 5
}
