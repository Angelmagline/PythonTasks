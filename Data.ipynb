{
 "cells": [
  {
   "cell_type": "code",
   "execution_count": null,
   "id": "c44042e2-06b5-4010-8ba4-e6d5f1e87438",
   "metadata": {},
   "outputs": [],
   "source": [
    "#1. Quantitative Data\n",
    "\n",
    "Definition:\n",
    "Quantitative data refers to numerical information that can be counted, measured, or expressed in numbers. It allows statistical analysis, mathematical \n",
    "computation, and graph-based representation.\n",
    "It answers questions like “How much?”, “How many?”, or “How often?”\n",
    "\n",
    "Examples:\n",
    "Age, height, marks, weight, temperature, income, population, etc."
   ]
  },
  {
   "cell_type": "code",
   "execution_count": null,
   "id": "d1dfe5c9-7327-457b-8452-56ae59b2f958",
   "metadata": {},
   "outputs": [],
   "source": [
    "usecase:\n",
    "Education: Schools and universities use quantitative data such as exam scores, attendance percentages, and average marks to measure students’ academic performance.\n",
    "\n",
    "Healthcare: Hospitals record patients’ blood pressure, cholesterol levels, and body temperature to monitor health progress and detect illnesses.\n",
    "\n",
    "Business: Companies analyze monthly sales figures, revenue, and profit margins to evaluate performance and make financial decisions.\n",
    "\n",
    "Weather Forecasting: Meteorologists measure temperature, rainfall, humidity, and wind speed to predict weather and climate patterns.\n",
    "\n",
    "Banking and Finance: Banks track numerical data such as interest rates, loan amounts, account balances, and credit scores for financial planning.\n",
    "\n",
    "Sports: Quantitative data like the number of goals, runs scored, or distance covered is used to assess players’ performance and compare statistics.\n",
    "\n",
    "Transportation: Travel companies and vehicle manufacturers measure speed, mileage, fuel usage, and travel distance to improve efficiency and safety.\n",
    "\n",
    "Manufacturing: Industries use production counts, defect rates, and machine operating times to measure productivity and quality control.\n",
    "\n",
    "E-commerce: Online businesses track customer purchase numbers, total orders, and website traffic to study buying trends and improve marketing.\n",
    "\n",
    "Government and Census: Governments collect data on population, employment rate, literacy rate, and income levels to design public welfare schemes and policies."
   ]
  },
  {
   "cell_type": "code",
   "execution_count": null,
   "id": "612215f8-14d6-4ed6-863b-b843308d97e7",
   "metadata": {},
   "outputs": [],
   "source": [
    "#2. Qualitative Data\n",
    "\n",
    "Definition:\n",
    "Qualitative data describes qualities, characteristics, or opinions rather than numbers.\n",
    "It focuses on what something is like, not how much of it there is.\n",
    "It answers questions like “What kind?”, “How does it look?”, or “Why?”\n",
    "\n",
    "Examples:\n",
    "Color, texture, emotions, opinions, gender, brand, or type."
   ]
  },
  {
   "cell_type": "code",
   "execution_count": null,
   "id": "5d37d763-ee95-410d-8752-22fd3ada4a3e",
   "metadata": {},
   "outputs": [],
   "source": [
    "Use Cases:\n",
    "\n",
    "Customer Feedback: Businesses analyze customer comments such as “excellent service,” “poor quality,” or “fast delivery” to improve their products and services.\n",
    "\n",
    "Product Reviews: Companies gather descriptive feedback like “soft fabric,” “bright color,” or “durable material” to understand customer preferences.\n",
    "\n",
    "Education: Teachers describe student performance using words like “attentive,” “creative,” “quiet,” or “hardworking” to understand behavior.\n",
    "\n",
    "Healthcare: Doctors collect qualitative data such as “sharp pain,” “nausea,” or “tiredness” to identify symptoms and diagnose diseases.\n",
    "\n",
    "Marketing: Marketers study consumer opinions, attitudes, and lifestyle choices to design effective advertising campaigns.\n",
    "\n",
    "Human Resources: HR managers evaluate employee traits such as “team player,” “responsible,” or “motivated” during performance reviews.\n",
    "\n",
    "Social Media Analysis: Analysts examine posts, comments, and reviews to understand public sentiment and emotional tone towards brands or topics.\n",
    "\n",
    "Journalism and Research: Journalists and researchers collect people’s experiences, emotions, and opinions during interviews to create meaningful stories or studies.\n",
    "\n",
    "Food Industry: Restaurants and food companies collect feedback such as “tasty,” “spicy,” or “fresh” to enhance food quality and customer satisfaction.\n",
    "\n",
    "Tourism: Travel agencies analyze tourist opinions like “beautiful view,” “friendly locals,” or “clean environment” to rate destinations and attract visitors.\n",
    "\n"
   ]
  }
 ],
 "metadata": {
  "kernelspec": {
   "display_name": "Python 3 (ipykernel)",
   "language": "python",
   "name": "python3"
  },
  "language_info": {
   "codemirror_mode": {
    "name": "ipython",
    "version": 3
   },
   "file_extension": ".py",
   "mimetype": "text/x-python",
   "name": "python",
   "nbconvert_exporter": "python",
   "pygments_lexer": "ipython3",
   "version": "3.13.9"
  }
 },
 "nbformat": 4,
 "nbformat_minor": 5
}
