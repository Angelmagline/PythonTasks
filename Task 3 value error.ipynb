{
 "cells": [
  {
   "cell_type": "code",
   "execution_count": 23,
   "id": "45b2f668-9c49-4b80-a27d-2966d7366c53",
   "metadata": {},
   "outputs": [
    {
     "name": "stdin",
     "output_type": "stream",
     "text": [
      "Enter a number:  -7\n"
     ]
    },
    {
     "name": "stdout",
     "output_type": "stream",
     "text": [
      "Error: The number cannot be negative\n"
     ]
    }
   ],
   "source": [
    "def check_negative(num):\n",
    "   if num < 0:\n",
    "      raise ValueError (\"The number cannot be negative\")\n",
    "   else:\n",
    "      print (\"Valid number:\",num)\n",
    "\n",
    "try:\n",
    "        number = int(input(\"Enter a number: \"))\n",
    "        check_negative(number)\n",
    "except ValueError as ve:\n",
    "        print (\"Error:\",ve)\n",
    "         "
   ]
  },
  {
   "cell_type": "code",
   "execution_count": null,
   "id": "65a610c9-b674-4dac-b59b-a9eeb197aa23",
   "metadata": {},
   "outputs": [],
   "source": []
  }
 ],
 "metadata": {
  "kernelspec": {
   "display_name": "Python 3 (ipykernel)",
   "language": "python",
   "name": "python3"
  },
  "language_info": {
   "codemirror_mode": {
    "name": "ipython",
    "version": 3
   },
   "file_extension": ".py",
   "mimetype": "text/x-python",
   "name": "python",
   "nbconvert_exporter": "python",
   "pygments_lexer": "ipython3",
   "version": "3.13.7"
  }
 },
 "nbformat": 4,
 "nbformat_minor": 5
}
