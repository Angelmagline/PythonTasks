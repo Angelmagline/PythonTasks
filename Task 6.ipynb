{
 "cells": [
  {
   "cell_type": "code",
   "execution_count": 1,
   "id": "413f9c45-d413-45b4-9630-67e47557b893",
   "metadata": {},
   "outputs": [
    {
     "name": "stdout",
     "output_type": "stream",
     "text": [
      "{'Angel': [80, 90, 95], 'Kaviya': [70, 95, 85], 'Abi': [85, 75, 95]}\n"
     ]
    }
   ],
   "source": [
    "#3. Given a dictionary of students → list of marks, use statistics library to compute mean, median. \n",
    "#Convert marks into tuples,and store unique average values in a set.\n",
    "\n",
    "import statistics\n",
    "studentmarks = { \"Angel\" : [80,90,95],\n",
    "                 \"Kaviya\" : [70,95,85],\n",
    "                 \"Abi\" : [85,75,95]}\n",
    "print(studentmarks)"
   ]
  },
  {
   "cell_type": "code",
   "execution_count": 8,
   "id": "933e43de-30f1-422e-b266-1b788e712a92",
   "metadata": {},
   "outputs": [
    {
     "name": "stdout",
     "output_type": "stream",
     "text": [
      "{'Angel': (80, 90, 95), 'Kaviya': (70, 95, 85), 'Abi': (85, 75, 95)}\n"
     ]
    }
   ],
   "source": [
    "#Convert marks to tuples\n",
    "for student in studentmarks:\n",
    "    studentmarks[student] = tuple(studentmarks[student])\n",
    "print(studentmarks)\n"
   ]
  },
  {
   "cell_type": "code",
   "execution_count": 14,
   "id": "6830333a-65b7-49bc-a7dc-ab001a457337",
   "metadata": {},
   "outputs": [
    {
     "name": "stdout",
     "output_type": "stream",
     "text": [
      "{'Angel': (80, 90, 95), 'Kaviya': (70, 95, 85), 'Abi': (85, 75, 95)}\n",
      "Mean: {'Angel': 88.33333333333333, 'Kaviya': 83.33333333333333, 'Abi': 85}\n",
      "Median: {'Angel': 90, 'Kaviya': 85, 'Abi': 85}\n"
     ]
    }
   ],
   "source": [
    "for student, marks in studentmarks.items():\n",
    "    mean[student] = statistics.mean(marks)\n",
    "    median[student] = statistics.median(marks)\n",
    "print(studentmarks)\n",
    "print(\"Mean:\", mean)\n",
    "print(\"Median:\", median)"
   ]
  },
  {
   "cell_type": "code",
   "execution_count": 20,
   "id": "2284a94b-3994-4f92-8390-1edd4c56daeb",
   "metadata": {},
   "outputs": [
    {
     "name": "stdout",
     "output_type": "stream",
     "text": [
      "Angel Marks: (80, 90, 95) Mean: 88.33333333333333 Median: 90\n",
      "Kaviya Marks: (70, 95, 85) Mean: 83.33333333333333 Median: 85\n",
      "Abi Marks: (85, 75, 95) Mean: 85 Median: 85\n",
      "Unique averages: {88.33333333333333, 83.33333333333333, 85}\n"
     ]
    }
   ],
   "source": [
    "for student in studentmarks:\n",
    "    print(student, \"Marks:\", studentmarks[student], \"Mean:\", mean[student], \"Median:\", median[student])\n",
    "\n",
    "print(\"Unique averages:\",unique_averages)"
   ]
  },
  {
   "cell_type": "code",
   "execution_count": null,
   "id": "b822b153-c3f6-4f1f-8e8f-1a80aa0ae04a",
   "metadata": {},
   "outputs": [],
   "source": []
  }
 ],
 "metadata": {
  "kernelspec": {
   "display_name": "Python 3 (ipykernel)",
   "language": "python",
   "name": "python3"
  },
  "language_info": {
   "codemirror_mode": {
    "name": "ipython",
    "version": 3
   },
   "file_extension": ".py",
   "mimetype": "text/x-python",
   "name": "python",
   "nbconvert_exporter": "python",
   "pygments_lexer": "ipython3",
   "version": "3.13.7"
  }
 },
 "nbformat": 4,
 "nbformat_minor": 5
}
