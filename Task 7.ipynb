{
 "cells": [
  {
   "cell_type": "code",
   "execution_count": 3,
   "id": "69a1971b-8d32-4159-bfab-a6274685fe75",
   "metadata": {},
   "outputs": [
    {
     "name": "stdout",
     "output_type": "stream",
     "text": [
      "positional arguments: [7, 8, 9]\n",
      "keyword arguments: {'name': 'Angel', 'age': 21}\n"
     ]
    }
   ],
   "source": [
    "#3.Create a function log_data(*args, **kwargs) that prints all positional arguments as a list and keyword arguments as a dictionary.\n",
    "\n",
    "def log_data(*args, **kwargs):\n",
    "    print(\"positional arguments:\",list(args))\n",
    "    print(\"keyword arguments:\",dict(kwargs))\n",
    "\n",
    "log_data(7,8,9, name=\"Angel\" , age=21)"
   ]
  },
  {
   "cell_type": "code",
   "execution_count": null,
   "id": "1f8f4fa0-1c25-445d-8d1a-dd68f8c28e2b",
   "metadata": {},
   "outputs": [],
   "source": []
  }
 ],
 "metadata": {
  "kernelspec": {
   "display_name": "Python 3 (ipykernel)",
   "language": "python",
   "name": "python3"
  },
  "language_info": {
   "codemirror_mode": {
    "name": "ipython",
    "version": 3
   },
   "file_extension": ".py",
   "mimetype": "text/x-python",
   "name": "python",
   "nbconvert_exporter": "python",
   "pygments_lexer": "ipython3",
   "version": "3.13.7"
  }
 },
 "nbformat": 4,
 "nbformat_minor": 5
}
