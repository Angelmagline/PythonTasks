{
 "cells": [
  {
   "cell_type": "code",
   "execution_count": 16,
   "id": "1fe3dd5c-84ec-405a-9955-efd3fa580f91",
   "metadata": {},
   "outputs": [
    {
     "name": "stdout",
     "output_type": "stream",
     "text": [
      "Account created with balance: 200\n",
      "Deposited: 150\n",
      "Balance after deposit: 350\n",
      "Withdrew: 140\n",
      "Balance after withdrawal: 210\n",
      "Final Balance: 210\n"
     ]
    }
   ],
   "source": [
    "#3.Create a BankAccount class with a private balance attribute. Provide methods to deposit, withdraw, and check balance.\n",
    "class BankAccount:\n",
    "    def __init__(self, balance=0):\n",
    "        self.__balance = balance   \n",
    "        print(f\"Account created with balance: {self.__balance}\")\n",
    "\n",
    "    def deposit(self, amount):\n",
    "        if amount > 0:\n",
    "            self.__balance += amount\n",
    "            print(f\"Deposited: {amount}\")\n",
    "            print(f\"Balance after deposit: {self.__balance}\")\n",
    "        else:\n",
    "            print(\"Deposit must be positive\")\n",
    "\n",
    "    def withdraw(self, amount):\n",
    "        if amount > self.__balance:\n",
    "            print(\"Insufficient balance\")\n",
    "        elif amount <= 0:\n",
    "            print(\"Withdrawal must be positive\")\n",
    "        else:\n",
    "            self.__balance -= amount\n",
    "            print(f\"Withdraw: {amount}\")\n",
    "            print(f\"Balance after withdrawal: {self.__balance}\")\n",
    "\n",
    "    def check_balance(self):\n",
    "        print(f\"Final Balance: {self.__balance}\")\n",
    "        return self.__balance\n",
    "\n",
    "\n",
    "if __name__ == \"__main__\":\n",
    "    account = BankAccount(200)   \n",
    "    account.deposit(150)         \n",
    "    account.withdraw(140)        \n",
    "    account.check_balance()   \n"
   ]
  },
  {
   "cell_type": "code",
   "execution_count": null,
   "id": "74948a1e-c734-48f9-942e-de04d0478d27",
   "metadata": {},
   "outputs": [],
   "source": []
  },
  {
   "cell_type": "code",
   "execution_count": null,
   "id": "9dbe0801-2879-4749-852d-b43aab129a8f",
   "metadata": {},
   "outputs": [],
   "source": []
  }
 ],
 "metadata": {
  "kernelspec": {
   "display_name": "Python 3 (ipykernel)",
   "language": "python",
   "name": "python3"
  },
  "language_info": {
   "codemirror_mode": {
    "name": "ipython",
    "version": 3
   },
   "file_extension": ".py",
   "mimetype": "text/x-python",
   "name": "python",
   "nbconvert_exporter": "python",
   "pygments_lexer": "ipython3",
   "version": "3.13.7"
  }
 },
 "nbformat": 4,
 "nbformat_minor": 5
}
