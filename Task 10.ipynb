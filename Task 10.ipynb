{
 "cells": [
  {
   "cell_type": "code",
   "execution_count": 2,
   "id": "313122df-1739-4e28-96d1-cb39fd00dd85",
   "metadata": {},
   "outputs": [
    {
     "name": "stdout",
     "output_type": "stream",
     "text": [
      "Circle area = 153.93804002589985\n",
      "Square area = 16\n"
     ]
    }
   ],
   "source": [
    "#3.Create an abstract base class Shape with:\n",
    "#Abstract method area\n",
    "#Abstract property name\n",
    "#Then implement Circle and Square subclasses.\n",
    "    \n",
    "from abc import ABC, abstractmethod , abstractproperty\n",
    "import math\n",
    "\n",
    "class Shape(ABC):\n",
    "    @abstractproperty\n",
    "    def name(self):\n",
    "        pass\n",
    "\n",
    "    @abstractmethod\n",
    "    def area(self):\n",
    "        pass\n",
    "\n",
    "\n",
    "class Circle(Shape):\n",
    "    def __init__(self, radius):\n",
    "        self.radius = radius\n",
    "\n",
    "    def name(self):\n",
    "        return \"Circle\"\n",
    "\n",
    "    def area(self):\n",
    "        return math.pi * self.radius ** 2\n",
    "\n",
    "\n",
    "class Square(Shape):\n",
    "    def __init__(self, side):\n",
    "        self.side = side\n",
    "\n",
    "    def name(self):\n",
    "        return \"Square\"\n",
    "\n",
    "    def area(self):\n",
    "        return self.side ** 2\n",
    "\n",
    "\n",
    "circle = Circle(7)\n",
    "square = Square(4)\n",
    "\n",
    "print(circle.name(), \"area =\", circle.area())\n",
    "print(square.name(), \"area =\", square.area())\n"
   ]
  },
  {
   "cell_type": "code",
   "execution_count": null,
   "id": "38b8de1b-fe63-405f-852b-aff2849d7826",
   "metadata": {},
   "outputs": [],
   "source": []
  }
 ],
 "metadata": {
  "kernelspec": {
   "display_name": "Python 3 (ipykernel)",
   "language": "python",
   "name": "python3"
  },
  "language_info": {
   "codemirror_mode": {
    "name": "ipython",
    "version": 3
   },
   "file_extension": ".py",
   "mimetype": "text/x-python",
   "name": "python",
   "nbconvert_exporter": "python",
   "pygments_lexer": "ipython3",
   "version": "3.13.7"
  }
 },
 "nbformat": 4,
 "nbformat_minor": 5
}
