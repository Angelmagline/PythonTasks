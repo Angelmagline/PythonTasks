{
 "cells": [
  {
   "cell_type": "code",
   "execution_count": 50,
   "id": "112c23e4-a40d-49f3-8198-b8a9fd4f62fd",
   "metadata": {},
   "outputs": [
    {
     "name": "stdout",
     "output_type": "stream",
     "text": [
      "{1, 2, 3, 4, 5, 6}\n",
      "{3, 4}\n",
      "{1, 2}\n",
      "{5, 6}\n",
      "{1, 2, 5, 6}\n",
      "False\n",
      "False\n"
     ]
    }
   ],
   "source": [
    "#set \n",
    "\n",
    "seta = {1,2,3,4}\n",
    "setb = {3,4,5,6}\n",
    "\n",
    "Union = seta | setb\n",
    "print(Union)\n",
    "\n",
    "Intersection = seta & setb\n",
    "print(Intersection)\n",
    "\n",
    "Difference = seta - setb\n",
    "print(Difference)\n",
    "\n",
    "Difference = setb - seta\n",
    "print(Difference)\n",
    "\n",
    "symmetricdifference = seta ^ setb\n",
    "print(symmetricdifference)\n",
    "\n",
    "print(seta.issubset(setb))  \n",
    "print(setb.issubset(seta))\n"
   ]
  },
  {
   "cell_type": "code",
   "execution_count": 22,
   "id": "977b7320-704b-4887-9b7a-e4677dfc170b",
   "metadata": {},
   "outputs": [
    {
     "name": "stdout",
     "output_type": "stream",
     "text": [
      "{'name': 'Angel', 'register no': 17, 'age': 21, 'department': 'AIML', 'Mobileno': 6374890804, 'Alternatemobile no': 9789034567}\n"
     ]
    }
   ],
   "source": [
    "#dict\n",
    "\n",
    "student = {\"name\" : \"Angel\",\n",
    "           \"register no\" : 17,\n",
    "           \"age\" : 21,\n",
    "           \"department\" : \"AIML\",\n",
    "           \"Mobileno\" :6374890804,\n",
    "           \"Alternatemobile no\" :9789034567}\n",
    "print(student)"
   ]
  },
  {
   "cell_type": "code",
   "execution_count": 27,
   "id": "87eb3e64-70c2-4c13-962a-8ff29bf2e6fb",
   "metadata": {},
   "outputs": [
    {
     "name": "stdout",
     "output_type": "stream",
     "text": [
      "Keys: dict_keys(['name', 'register no', 'age', 'department', 'Mobileno', 'Alternatemobile no'])\n"
     ]
    }
   ],
   "source": [
    "print(\"Keys:\", student.keys())"
   ]
  },
  {
   "cell_type": "code",
   "execution_count": 28,
   "id": "36d160a4-ca64-4647-98f1-fb07e77a0174",
   "metadata": {},
   "outputs": [
    {
     "name": "stdout",
     "output_type": "stream",
     "text": [
      "Values: dict_values(['Angel', 17, 21, 'AIML', 6374890804, 9789034567])\n"
     ]
    }
   ],
   "source": [
    "print(\"Values:\", student.values())"
   ]
  },
  {
   "cell_type": "code",
   "execution_count": 29,
   "id": "e8b64d46-6ba4-410c-a777-a226a2d60a6d",
   "metadata": {},
   "outputs": [
    {
     "name": "stdout",
     "output_type": "stream",
     "text": [
      "Items: dict_items([('name', 'Angel'), ('register no', 17), ('age', 21), ('department', 'AIML'), ('Mobileno', 6374890804), ('Alternatemobile no', 9789034567)])\n"
     ]
    }
   ],
   "source": [
    "print(\"Items:\", student.items())"
   ]
  },
  {
   "cell_type": "code",
   "execution_count": 37,
   "id": "6ce4416b-ef62-4446-a1f9-6826a7700978",
   "metadata": {},
   "outputs": [
    {
     "name": "stdout",
     "output_type": "stream",
     "text": [
      "{'name': 'Angel', 'register no': 17, 'age': 22, 'department': 'AIML', 'Mobileno': 6374890804, 'Alternatemobile no': 9789034567}\n"
     ]
    }
   ],
   "source": [
    "student[\"age\"] = 22\n",
    "print(student)"
   ]
  },
  {
   "cell_type": "code",
   "execution_count": 34,
   "id": "23e291ed-764b-426c-aa60-a0f3c0b669b3",
   "metadata": {},
   "outputs": [
    {
     "name": "stdout",
     "output_type": "stream",
     "text": [
      "Angel\n"
     ]
    }
   ],
   "source": [
    "print(student['name'])"
   ]
  },
  {
   "cell_type": "code",
   "execution_count": 38,
   "id": "939b9477-d346-41b5-9056-d73dc7082366",
   "metadata": {},
   "outputs": [
    {
     "name": "stdout",
     "output_type": "stream",
     "text": [
      "22\n"
     ]
    }
   ],
   "source": [
    "#function\n",
    "print(student.get(\"age\")) "
   ]
  },
  {
   "cell_type": "code",
   "execution_count": 39,
   "id": "db94b42e-bd47-48a0-852b-fd32c637f57a",
   "metadata": {},
   "outputs": [
    {
     "name": "stdout",
     "output_type": "stream",
     "text": [
      "{'name': 'Angel', 'register no': 17, 'age': 22, 'department': 'AIML', 'Mobileno': 6374890804, 'Alternatemobile no': 9789034567, 'emailid': 'angel@gmail'}\n"
     ]
    }
   ],
   "source": [
    "student[\"emailid\"] = \"angel@gmail\"\n",
    "print(student)"
   ]
  },
  {
   "cell_type": "code",
   "execution_count": 40,
   "id": "9240a64b-557a-4b4f-9a9c-007d33daf21d",
   "metadata": {},
   "outputs": [
    {
     "name": "stdout",
     "output_type": "stream",
     "text": [
      "{'name': 'Angel', 'register no': 17, 'age': 22, 'department': 'BSC', 'Mobileno': 6374890804, 'Alternatemobile no': 9789034567, 'emailid': 'angel@gmail'}\n"
     ]
    }
   ],
   "source": [
    "#change items value\n",
    "student[\"department\"] = \"BSC\"\n",
    "print(student)"
   ]
  },
  {
   "cell_type": "code",
   "execution_count": 41,
   "id": "737f78a8-e634-492b-8d54-2ddddbf37e58",
   "metadata": {},
   "outputs": [
    {
     "name": "stdout",
     "output_type": "stream",
     "text": [
      "{'name': 'Angel', 'register no': 17, 'age': 22, 'department': 'BSC', 'Mobileno': 6374890804, 'Alternatemobile no': 9789034567}\n"
     ]
    }
   ],
   "source": [
    "student.pop(\"emailid\")\n",
    "print(student)"
   ]
  },
  {
   "cell_type": "code",
   "execution_count": 42,
   "id": "2b6844a5-b291-4771-baed-d5e7deb5aff0",
   "metadata": {},
   "outputs": [
    {
     "name": "stdout",
     "output_type": "stream",
     "text": [
      "6\n"
     ]
    }
   ],
   "source": [
    "#length\n",
    "print(len(student))"
   ]
  },
  {
   "cell_type": "code",
   "execution_count": 44,
   "id": "f47a7846-1fd6-4a9a-94e1-0771c5630b23",
   "metadata": {},
   "outputs": [
    {
     "name": "stdout",
     "output_type": "stream",
     "text": [
      "age key exits\n"
     ]
    }
   ],
   "source": [
    "if 'age' in student:\n",
    "    print(\"age key exits\")"
   ]
  },
  {
   "cell_type": "code",
   "execution_count": 45,
   "id": "afde6127-277c-4b19-9560-2f46b41acc0e",
   "metadata": {},
   "outputs": [
    {
     "name": "stdout",
     "output_type": "stream",
     "text": [
      "name : Angel\n",
      "register no : 17\n",
      "age : 22\n",
      "department : BSC\n",
      "Mobileno : 6374890804\n",
      "Alternatemobile no : 9789034567\n"
     ]
    }
   ],
   "source": [
    "for key in student:\n",
    "    print(key,\":\",student[key])"
   ]
  },
  {
   "cell_type": "code",
   "execution_count": 46,
   "id": "695ac560-4720-4aa7-9035-57099debd8b8",
   "metadata": {},
   "outputs": [
    {
     "name": "stdout",
     "output_type": "stream",
     "text": [
      "{'1st year': {'name': 'angel', 'age': 21}, '2nd year': {'name': 'kaviya', 'age': 20}}\n"
     ]
    }
   ],
   "source": [
    "#Nested dict\n",
    "\n",
    "student = {\"1st year\":{\"name\":\"angel\",\"age\":21},\n",
    "           \"2nd year\":{\"name\":\"kaviya\",\"age\":20}}\n",
    "print(student)\n",
    "           "
   ]
  },
  {
   "cell_type": "code",
   "execution_count": 48,
   "id": "a21d2af9-8cbc-4e67-9b47-4351e8455a50",
   "metadata": {},
   "outputs": [
    {
     "name": "stdout",
     "output_type": "stream",
     "text": [
      "angel\n"
     ]
    }
   ],
   "source": [
    "print(student[\"1st year\"][\"name\"])"
   ]
  },
  {
   "cell_type": "code",
   "execution_count": 49,
   "id": "9e035902-74cd-48bf-9fc4-a790d550a8bd",
   "metadata": {},
   "outputs": [
    {
     "name": "stdout",
     "output_type": "stream",
     "text": [
      "kaviya\n"
     ]
    }
   ],
   "source": [
    "print(student[\"2nd year\"][\"name\"])"
   ]
  },
  {
   "cell_type": "code",
   "execution_count": null,
   "id": "c3d63ce5-2cd6-4f26-b9b0-68ac59b84ada",
   "metadata": {},
   "outputs": [],
   "source": []
  }
 ],
 "metadata": {
  "kernelspec": {
   "display_name": "Python 3 (ipykernel)",
   "language": "python",
   "name": "python3"
  },
  "language_info": {
   "codemirror_mode": {
    "name": "ipython",
    "version": 3
   },
   "file_extension": ".py",
   "mimetype": "text/x-python",
   "name": "python",
   "nbconvert_exporter": "python",
   "pygments_lexer": "ipython3",
   "version": "3.13.7"
  }
 },
 "nbformat": 4,
 "nbformat_minor": 5
}
