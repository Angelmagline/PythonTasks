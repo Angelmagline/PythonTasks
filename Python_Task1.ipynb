{
 "cells": [
  {
   "cell_type": "code",
   "execution_count": 1,
   "id": "cdc2d639-1ffb-4500-8703-47b6fcb172e1",
   "metadata": {},
   "outputs": [
    {
     "name": "stdout",
     "output_type": "stream",
     "text": [
      "Angel\n"
     ]
    }
   ],
   "source": [
    "print ('Angel')\n"
   ]
  },
  {
   "cell_type": "code",
   "execution_count": 3,
   "id": "c59dccc6-b640-4ecf-ac4a-6bb7ee8dc35d",
   "metadata": {},
   "outputs": [
    {
     "name": "stdout",
     "output_type": "stream",
     "text": [
      "8\n",
      "7\n"
     ]
    }
   ],
   "source": [
    "#Assignment operator\n",
    "a=7\n",
    "b=1\n",
    "a+=b\n",
    "print(a)\n",
    "a-=b\n",
    "print(a)\n",
    "\n"
   ]
  },
  {
   "cell_type": "code",
   "execution_count": 4,
   "id": "3f64dade-a440-440e-a832-02a56a3f229e",
   "metadata": {},
   "outputs": [
    {
     "name": "stdout",
     "output_type": "stream",
     "text": [
      "True\n"
     ]
    }
   ],
   "source": [
    "a=12\n",
    "b=12\n",
    "print (a is b)"
   ]
  },
  {
   "cell_type": "code",
   "execution_count": 7,
   "id": "56fa10a8-0033-487d-9800-0c724c4a7265",
   "metadata": {},
   "outputs": [
    {
     "name": "stdout",
     "output_type": "stream",
     "text": [
      "True\n"
     ]
    }
   ],
   "source": [
    "a=[1,2,3]\n",
    "b=[1,2,3]\n",
    "print (a is not b)"
   ]
  },
  {
   "cell_type": "code",
   "execution_count": 10,
   "id": "e982180f-0021-4767-b76a-e61f8d2ddba8",
   "metadata": {},
   "outputs": [
    {
     "name": "stdout",
     "output_type": "stream",
     "text": [
      "True\n",
      "True\n"
     ]
    }
   ],
   "source": [
    "l=[2,3,4,5,6]\n",
    "print(2 in l)\n",
    "print(8 not in l)\n"
   ]
  },
  {
   "cell_type": "code",
   "execution_count": 13,
   "id": "cdcb8884-0484-4d78-a476-b8625bc83194",
   "metadata": {},
   "outputs": [
    {
     "name": "stdout",
     "output_type": "stream",
     "text": [
      "13\n"
     ]
    }
   ],
   "source": [
    "a = 10\n",
    "b = 3\n",
    "print( a + b )"
   ]
  },
  {
   "cell_type": "code",
   "execution_count": 14,
   "id": "836860c9-8cc3-4793-8ed4-a6ebbdae35c0",
   "metadata": {},
   "outputs": [
    {
     "name": "stdout",
     "output_type": "stream",
     "text": [
      "13\n",
      "7\n",
      "30\n",
      "3.3333333333333335\n",
      "3\n",
      "1\n",
      "1000\n"
     ]
    }
   ],
   "source": [
    "# 1. Arithmetic Operators\n",
    "a = 10\n",
    "b = 3\n",
    "print( a + b)        # addition\n",
    "print( a - b)        # subtraction\n",
    "print( a * b)        # multiplication\n",
    "print( a / b)        # float division\n",
    "print( a // b)      # floor division\n",
    "print( a % b)        # remainder (modulus)\n",
    "print( a ** b)      # exponentiation"
   ]
  },
  {
   "cell_type": "code",
   "execution_count": 16,
   "id": "b47270ef-e50c-4083-80d2-3f819c8e6135",
   "metadata": {},
   "outputs": [
    {
     "name": "stdout",
     "output_type": "stream",
     "text": [
      "False\n",
      "True\n",
      "True\n",
      "False\n",
      "True\n",
      "False\n"
     ]
    }
   ],
   "source": [
    "c# 2. Comparison\n",
    "\n",
    "print(a == b)       # equal → False\n",
    "print(a != b)       # not equal → True\n",
    "print(a > b)        # greater → True\n",
    "print(a < b)        # less → False\n",
    "print(a >= b)       # greater or equal → True\n",
    "print(a <= b)       # less or equal → False"
   ]
  },
  {
   "cell_type": "code",
   "execution_count": 1,
   "id": "16807545-e5c6-4015-bc4b-e3ae16fec355",
   "metadata": {},
   "outputs": [
    {
     "name": "stdout",
     "output_type": "stream",
     "text": [
      "False\n",
      "True\n",
      "False\n"
     ]
    }
   ],
   "source": [
    "# 3.Logical \n",
    "\n",
    "a = True\n",
    "b = False\n",
    "print(a and b)\n",
    "print(a or b)\n",
    "print(not a)\n"
   ]
  },
  {
   "cell_type": "code",
   "execution_count": 3,
   "id": "8f085786-19b4-4ad3-9960-5978186dafe0",
   "metadata": {},
   "outputs": [
    {
     "name": "stdout",
     "output_type": "stream",
     "text": [
      "7\n",
      "21\n"
     ]
    }
   ],
   "source": [
    "\n",
    "# Assignment Operators\n",
    "x = 5\n",
    "x += 2  # x = x + 2\n",
    "print(x)\n",
    "x *= 3  # x = x * 3\n",
    "print(x)\n"
   ]
  },
  {
   "cell_type": "code",
   "execution_count": 4,
   "id": "30951f24-2969-4850-b1b7-c8b8fbad45a4",
   "metadata": {},
   "outputs": [
    {
     "name": "stdout",
     "output_type": "stream",
     "text": [
      "a is b: True\n",
      "a is c: False\n",
      "a is not b: False\n"
     ]
    }
   ],
   "source": [
    "# Identity Operators\n",
    "a = [1, 2, 3]\n",
    "b = a  # Assign b the same reference as a\n",
    "c = [1, 2, 3]\n",
    "\n",
    "print(\"a is b:\", a is b)  # True, both refer to the same object\n",
    "print(\"a is c:\", a is c)  # False, different objects even though the content is the same\n",
    "print(\"a is not b:\", a is not b)  # False, because a and b are the same object\n"
   ]
  },
  {
   "cell_type": "code",
   "execution_count": 5,
   "id": "9f9e6257-9056-4778-951e-125f77b62605",
   "metadata": {},
   "outputs": [
    {
     "name": "stdout",
     "output_type": "stream",
     "text": [
      "3 in list1: True\n",
      "5 not in list1: True\n"
     ]
    }
   ],
   "source": [
    "# Membership Operators\n",
    "list1 = [1, 2, 3, 4]\n",
    "print(\"3 in list1:\", 3 in list1)  # True, 3 is in the list\n",
    "print(\"5 not in list1:\", 5 not in list1)  # True, 5 is not in the list\n"
   ]
  },
  {
   "cell_type": "code",
   "execution_count": 6,
   "id": "ca097c26-6b32-43a2-9892-4f92bba8cc0d",
   "metadata": {},
   "outputs": [
    {
     "name": "stdout",
     "output_type": "stream",
     "text": [
      "Type of x: <class 'int'> Value: 10\n",
      "Type of y: <class 'float'> Value: 3.14\n",
      "Type of z: <class 'complex'> Value: (3+4j)\n"
     ]
    }
   ],
   "source": [
    "#Python Datatypes\n",
    "\n",
    "# Numeric Types\n",
    "x = 10          # int\n",
    "y = 3.14        # float\n",
    "z = 3 + 4j      # complex\n",
    "\n",
    "print(\"Type of x:\", type(x), \"Value:\", x)\n",
    "print(\"Type of y:\", type(y), \"Value:\", y)\n",
    "print(\"Type of z:\", type(z), \"Value:\", z)\n",
    "\n"
   ]
  },
  {
   "cell_type": "code",
   "execution_count": 7,
   "id": "81919e23-303c-4495-a9c3-8ed889d4e11b",
   "metadata": {},
   "outputs": [
    {
     "name": "stdout",
     "output_type": "stream",
     "text": [
      "<class 'list'> ['apple', 'banana', 'cherry']\n"
     ]
    }
   ],
   "source": [
    "# List\n",
    "fruits = ['apple', 'banana', 'cherry']\n",
    "\n",
    "print(type(fruits), fruits)  # list type\n"
   ]
  },
  {
   "cell_type": "code",
   "execution_count": 8,
   "id": "f39f0110-74e7-4044-957c-d0e4e4bd9a24",
   "metadata": {},
   "outputs": [
    {
     "name": "stdout",
     "output_type": "stream",
     "text": [
      "<class 'tuple'> (1, 2, 3)\n"
     ]
    }
   ],
   "source": [
    "# Tuple\n",
    "coordinates = (1, 2, 3)\n",
    "\n",
    "print(type(coordinates), coordinates)  # tuple type\n"
   ]
  },
  {
   "cell_type": "code",
   "execution_count": 9,
   "id": "0cc225f3-c2d8-48a2-ab11-36502b9f05b3",
   "metadata": {},
   "outputs": [
    {
     "name": "stdout",
     "output_type": "stream",
     "text": [
      "<class 'dict'> {'name': 'Alice', 'age': 25}\n"
     ]
    }
   ],
   "source": [
    "# Dictionary\n",
    "person = {'name': 'Alice', 'age': 25}\n",
    "\n",
    "print(type(person), person)  # dict type\n"
   ]
  },
  {
   "cell_type": "code",
   "execution_count": 10,
   "id": "5f6b9b7c-ef09-44e6-82d8-16cf836a2baa",
   "metadata": {},
   "outputs": [
    {
     "name": "stdout",
     "output_type": "stream",
     "text": [
      "<class 'set'> {1, 2, 3, 4}\n"
     ]
    }
   ],
   "source": [
    "# Set\n",
    "unique_numbers = {1, 2, 3, 4}\n",
    "\n",
    "print(type(unique_numbers), unique_numbers)  # set type\n"
   ]
  },
  {
   "cell_type": "code",
   "execution_count": 11,
   "id": "3fd27604-7c48-420e-9ec0-d5e8e97fe81d",
   "metadata": {},
   "outputs": [
    {
     "name": "stdout",
     "output_type": "stream",
     "text": [
      "<class 'bool'> True\n"
     ]
    }
   ],
   "source": [
    "# Boolean\n",
    "is_active = True\n",
    "\n",
    "print(type(is_active), is_active)  # bool type\n"
   ]
  },
  {
   "cell_type": "code",
   "execution_count": 12,
   "id": "7c7f0cac-9e96-4914-bcab-ab6ee4cea43f",
   "metadata": {},
   "outputs": [
    {
     "name": "stdout",
     "output_type": "stream",
     "text": [
      "The system is active!\n"
     ]
    }
   ],
   "source": [
    "# Boolean example with if-else\n",
    "is_active = True\n",
    "\n",
    "# Check if is_active is True or False\n",
    "if is_active:\n",
    "    print(\"The system is active!\")\n",
    "else:\n",
    "    print(\"The system is inactive.\")\n"
   ]
  },
  {
   "cell_type": "code",
   "execution_count": 13,
   "id": "8dfc78ae-8090-4548-b345-1b47032ab9c8",
   "metadata": {},
   "outputs": [
    {
     "name": "stdout",
     "output_type": "stream",
     "text": [
      "Is x greater than 5? True\n",
      "Is x less than 3? False\n",
      "Is x equal to 7? True\n",
      "Is x not equal to 10? True\n"
     ]
    }
   ],
   "source": [
    "x = 7\n",
    "print(\"Is x greater than 5?\", x > 5)       # True\n",
    "print(\"Is x less than 3?\", x < 3)          # False\n",
    "print(\"Is x equal to 7?\", x == 7)          # True\n",
    "print(\"Is x not equal to 10?\", x != 10)    # True\n"
   ]
  },
  {
   "cell_type": "code",
   "execution_count": null,
   "id": "6f55c44c-4545-41de-b9b7-81d47745d108",
   "metadata": {},
   "outputs": [],
   "source": []
  }
 ],
 "metadata": {
  "kernelspec": {
   "display_name": "Python 3 (ipykernel)",
   "language": "python",
   "name": "python3"
  },
  "language_info": {
   "codemirror_mode": {
    "name": "ipython",
    "version": 3
   },
   "file_extension": ".py",
   "mimetype": "text/x-python",
   "name": "python",
   "nbconvert_exporter": "python",
   "pygments_lexer": "ipython3",
   "version": "3.13.7"
  }
 },
 "nbformat": 4,
 "nbformat_minor": 5
}
