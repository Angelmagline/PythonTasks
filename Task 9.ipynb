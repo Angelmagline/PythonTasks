{
 "cells": [
  {
   "cell_type": "code",
   "execution_count": 9,
   "id": "e532f9ab-be23-439a-9456-a57ef0b469f2",
   "metadata": {},
   "outputs": [
    {
     "name": "stdout",
     "output_type": "stream",
     "text": [
      "Processing online order\n",
      "Step 1: Payment completed.\n",
      "Step 2: Order shipped to the customer.\n",
      "Processing store pickup order\n",
      "Step 1: Order prepared in store.\n",
      "Step 2: Ready for pickup.\n"
     ]
    }
   ],
   "source": [
    "#3.Base class: Order with method process_order().\n",
    "#Derived classes:\n",
    "#OnlineOrder – overrides to include payment and shipping.\n",
    "#StorePickupOrder – overrides to include in-store pickup instructions.\n",
    "\n",
    "#hierarchical inheritance\n",
    "#Base class\n",
    "class Order:\n",
    "    def process_order(self):\n",
    "        print(\"Processing a general order...\")\n",
    "\n",
    "#Derived class-1\n",
    "class OnlineOrder(Order):\n",
    "    def process_order(self):\n",
    "        print(\"Processing online order\")\n",
    "        print(\"Step 1: Payment completed.\")\n",
    "        print(\"Step 2: Order shipped to the customer.\")\n",
    "\n",
    "#Derived class-2\n",
    "class StorePickupOrder(Order):\n",
    "    def process_order(self):\n",
    "        print(\"Processing store pickup order\")\n",
    "        print(\"Step 1: Order prepared in store.\")\n",
    "        print(\"Step 2: Ready for pickup.\")\n",
    "        \n",
    "order1 = OnlineOrder()\n",
    "order2 = StorePickupOrder()\n",
    "\n",
    "order1.process_order()\n",
    "order2.process_order()\n",
    "\n",
    "    \n",
    "    "
   ]
  },
  {
   "cell_type": "code",
   "execution_count": null,
   "id": "dbbfe0f7-b970-45c8-af8e-e220b03ade43",
   "metadata": {},
   "outputs": [],
   "source": []
  }
 ],
 "metadata": {
  "kernelspec": {
   "display_name": "Python 3 (ipykernel)",
   "language": "python",
   "name": "python3"
  },
  "language_info": {
   "codemirror_mode": {
    "name": "ipython",
    "version": 3
   },
   "file_extension": ".py",
   "mimetype": "text/x-python",
   "name": "python",
   "nbconvert_exporter": "python",
   "pygments_lexer": "ipython3",
   "version": "3.13.7"
  }
 },
 "nbformat": 4,
 "nbformat_minor": 5
}
