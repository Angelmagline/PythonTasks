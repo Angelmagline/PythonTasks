{
 "cells": [
  {
   "cell_type": "code",
   "execution_count": 3,
   "id": "62203c7d-2b91-4a8b-b733-8076fba6835e",
   "metadata": {},
   "outputs": [
    {
     "name": "stdin",
     "output_type": "stream",
     "text": [
      "Enter the number 153\n"
     ]
    },
    {
     "name": "stdout",
     "output_type": "stream",
     "text": [
      "The number of the digits: 9\n"
     ]
    }
   ],
   "source": [
    "num = int(input(\"Enter the number\"))\n",
    "sum = 0\n",
    "while num>0:\n",
    "    digit = num%10\n",
    "    sum = sum+digit\n",
    "    num = num//10\n",
    "\n",
    "print(\"The number of the digits:\",sum)\n"
   ]
  },
  {
   "cell_type": "code",
   "execution_count": null,
   "id": "81d6d5d3-0d23-4d3c-b3f0-638182217ea4",
   "metadata": {},
   "outputs": [],
   "source": []
  }
 ],
 "metadata": {
  "kernelspec": {
   "display_name": "Python 3 (ipykernel)",
   "language": "python",
   "name": "python3"
  },
  "language_info": {
   "codemirror_mode": {
    "name": "ipython",
    "version": 3
   },
   "file_extension": ".py",
   "mimetype": "text/x-python",
   "name": "python",
   "nbconvert_exporter": "python",
   "pygments_lexer": "ipython3",
   "version": "3.13.7"
  }
 },
 "nbformat": 4,
 "nbformat_minor": 5
}
