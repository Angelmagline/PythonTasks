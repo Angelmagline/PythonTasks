{
 "cells": [
  {
   "cell_type": "code",
   "execution_count": 6,
   "id": "ee26b6c2-2652-46a1-a185-35781e8416a0",
   "metadata": {},
   "outputs": [
    {
     "name": "stdout",
     "output_type": "stream",
     "text": [
      "['Persian cat\\n', 'ab\\n', 'c\\n', 'Himalayan cat is playing with ball']\n",
      "Persian cat\n",
      "\n",
      "Himalayan cat is playing with ball\n"
     ]
    }
   ],
   "source": [
    "#3. Read a file line by line and print only those lines that contain more than 3 words using a for loop and if condition.\n",
    "\n",
    "file = open (\"meow.txt\",\"r\")\n",
    "content = file.readlines()\n",
    "print(content)\n",
    "for i in content:\n",
    "    count = 0\n",
    "    w = False\n",
    "    for a in i :\n",
    "        if a != ' ' and a != '\\n':\n",
    "           if not w:\n",
    "             count += 1\n",
    "             w = True\n",
    "           else:\n",
    "            w = False\n",
    "    if count > 3:\n",
    "       print(i)\n",
    "file.close()\n"
   ]
  },
  {
   "cell_type": "code",
   "execution_count": 8,
   "id": "b364d34f-ee59-4427-aa7f-23ee4d501ebc",
   "metadata": {},
   "outputs": [
    {
     "name": "stdout",
     "output_type": "stream",
     "text": [
      "Persian cat\n",
      "\n",
      "Himalayan cat is playing with ball\n"
     ]
    }
   ],
   "source": [
    "#3. Read a file line by line and print only those lines that contain more than 3 words using a for loop and if condition.\n",
    "\n",
    "file = open (\"meow.txt\",\"r\")\n",
    "content = file.readlines()\n",
    "\n",
    "for i in content:\n",
    "    count = 0\n",
    "    \n",
    "    for a in i :\n",
    "        if a != ' ' and a != '\\n':\n",
    "           if not w:\n",
    "             count += 1\n",
    "             w = True\n",
    "           else:\n",
    "            w = False\n",
    "    if count > 3:\n",
    "       print(i)\n",
    "file.close()\n"
   ]
  },
  {
   "cell_type": "code",
   "execution_count": null,
   "id": "06c32cb2-cb0f-4dee-9c3b-38d5b3a60049",
   "metadata": {},
   "outputs": [],
   "source": []
  },
  {
   "cell_type": "code",
   "execution_count": null,
   "id": "20753462-b729-46e9-be6a-8dc0e4d2b100",
   "metadata": {},
   "outputs": [],
   "source": []
  }
 ],
 "metadata": {
  "kernelspec": {
   "display_name": "Python 3 (ipykernel)",
   "language": "python",
   "name": "python3"
  },
  "language_info": {
   "codemirror_mode": {
    "name": "ipython",
    "version": 3
   },
   "file_extension": ".py",
   "mimetype": "text/x-python",
   "name": "python",
   "nbconvert_exporter": "python",
   "pygments_lexer": "ipython3",
   "version": "3.13.7"
  }
 },
 "nbformat": 4,
 "nbformat_minor": 5
}
