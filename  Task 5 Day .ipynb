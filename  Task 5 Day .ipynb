{
 "cells": [
  {
   "cell_type": "code",
   "execution_count": 40,
   "id": "b958f7ce-63b9-4647-9be3-62a2c4adfa34",
   "metadata": {},
   "outputs": [
    {
     "name": "stdin",
     "output_type": "stream",
     "text": [
      "Enter the day number (1-7):  8\n"
     ]
    },
    {
     "name": "stdout",
     "output_type": "stream",
     "text": [
      "Invalid day number\n"
     ]
    },
    {
     "name": "stdin",
     "output_type": "stream",
     "text": [
      "Enter the day number (1-7):  a\n"
     ]
    },
    {
     "name": "stdout",
     "output_type": "stream",
     "text": [
      "That's not a number! Please enter digits only.\n"
     ]
    },
    {
     "name": "stdin",
     "output_type": "stream",
     "text": [
      "Enter the day number (1-7):  7\n"
     ]
    },
    {
     "name": "stdout",
     "output_type": "stream",
     "text": [
      "Saturday\n"
     ]
    }
   ],
   "source": [
    "while True:\n",
    "    try:\n",
    "        day = int(input(\"Enter the day number (1-7): \"))\n",
    "        if 1 <= day <= 7:\n",
    "            if day == 1:\n",
    "                print(\"Sunday\")\n",
    "            elif day == 2:\n",
    "                print(\"Monday\")\n",
    "            elif day == 3:\n",
    "                print(\"Tuesday\")\n",
    "            elif day == 4:\n",
    "                print(\"Wednesday\")\n",
    "            elif day == 5:\n",
    "                print(\"Thursday\")\n",
    "            elif day == 6:\n",
    "                print(\"Friday\")\n",
    "            elif day == 7:\n",
    "                print(\"Saturday\")\n",
    "            break \n",
    "        else:\n",
    "            print(\"Invalid day number\")\n",
    "    except ValueError:\n",
    "        print(\"That's not a number! Please enter digits only.\")\n"
   ]
  },
  {
   "cell_type": "code",
   "execution_count": null,
   "id": "5dcdfde5-0baf-4332-8597-0399eb199443",
   "metadata": {},
   "outputs": [],
   "source": []
  }
 ],
 "metadata": {
  "kernelspec": {
   "display_name": "Python 3 (ipykernel)",
   "language": "python",
   "name": "python3"
  },
  "language_info": {
   "codemirror_mode": {
    "name": "ipython",
    "version": 3
   },
   "file_extension": ".py",
   "mimetype": "text/x-python",
   "name": "python",
   "nbconvert_exporter": "python",
   "pygments_lexer": "ipython3",
   "version": "3.13.7"
  }
 },
 "nbformat": 4,
 "nbformat_minor": 5
}
