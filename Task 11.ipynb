{
 "cells": [
  {
   "cell_type": "code",
   "execution_count": 6,
   "id": "2ed3674c-c823-4caa-bb12-3acbbfbe39ed",
   "metadata": {},
   "outputs": [
    {
     "name": "stdout",
     "output_type": "stream",
     "text": [
      "25\n"
     ]
    }
   ],
   "source": [
    "#3.Build a decorator check_type(expected_type) that raises an error if the function argument is not of the specified type.\n",
    "\n",
    "def check_type(expected_type):\n",
    "    def decorator (func):\n",
    "        def wrapper (args):\n",
    "            if not isinstance (args,expected_type):\n",
    "                 raise TypeError(f\"Expected type {expected_type.__name__}, but got {type(arg).__name__}\")\n",
    "            return func(args)\n",
    "        return wrapper\n",
    "    return decorator\n",
    "\n",
    "\n",
    "@check_type(int)\n",
    "def square(n):\n",
    "    return n * n\n",
    "\n",
    "print(square(5))\n",
    "        \n"
   ]
  },
  {
   "cell_type": "code",
   "execution_count": 3,
   "id": "4e42b6c2-10e9-42cd-8c10-6d72aaaf12be",
   "metadata": {},
   "outputs": [
    {
     "ename": "TypeError",
     "evalue": "Expected type int, but got str",
     "output_type": "error",
     "traceback": [
      "\u001b[31m---------------------------------------------------------------------------\u001b[39m",
      "\u001b[31mTypeError\u001b[39m                                 Traceback (most recent call last)",
      "\u001b[36mCell\u001b[39m\u001b[36m \u001b[39m\u001b[32mIn[3]\u001b[39m\u001b[32m, line 16\u001b[39m\n\u001b[32m     11\u001b[39m \u001b[38;5;129m@check_type\u001b[39m(\u001b[38;5;28mint\u001b[39m)\n\u001b[32m     12\u001b[39m \u001b[38;5;28;01mdef\u001b[39;00m\u001b[38;5;250m \u001b[39m\u001b[34msquare\u001b[39m(n):\n\u001b[32m     13\u001b[39m     \u001b[38;5;28;01mreturn\u001b[39;00m n * n\n\u001b[32m---> \u001b[39m\u001b[32m16\u001b[39m \u001b[38;5;28mprint\u001b[39m(\u001b[43msquare\u001b[49m\u001b[43m(\u001b[49m\u001b[33;43m\"\u001b[39;49m\u001b[33;43m5\u001b[39;49m\u001b[33;43m\"\u001b[39;49m\u001b[43m)\u001b[49m)  \n",
      "\u001b[36mCell\u001b[39m\u001b[36m \u001b[39m\u001b[32mIn[3]\u001b[39m\u001b[32m, line 5\u001b[39m, in \u001b[36mcheck_type.<locals>.decorator.<locals>.wrapper\u001b[39m\u001b[34m(arg)\u001b[39m\n\u001b[32m      3\u001b[39m \u001b[38;5;28;01mdef\u001b[39;00m\u001b[38;5;250m \u001b[39m\u001b[34mwrapper\u001b[39m(arg):\n\u001b[32m      4\u001b[39m     \u001b[38;5;28;01mif\u001b[39;00m \u001b[38;5;129;01mnot\u001b[39;00m \u001b[38;5;28misinstance\u001b[39m(arg, expected_type):\n\u001b[32m----> \u001b[39m\u001b[32m5\u001b[39m         \u001b[38;5;28;01mraise\u001b[39;00m \u001b[38;5;167;01mTypeError\u001b[39;00m(\u001b[33mf\u001b[39m\u001b[33m\"\u001b[39m\u001b[33mExpected type \u001b[39m\u001b[38;5;132;01m{\u001b[39;00mexpected_type.\u001b[34m__name__\u001b[39m\u001b[38;5;132;01m}\u001b[39;00m\u001b[33m, but got \u001b[39m\u001b[38;5;132;01m{\u001b[39;00m\u001b[38;5;28mtype\u001b[39m(arg).\u001b[34m__name__\u001b[39m\u001b[38;5;132;01m}\u001b[39;00m\u001b[33m\"\u001b[39m)\n\u001b[32m      6\u001b[39m     \u001b[38;5;28;01mreturn\u001b[39;00m func(arg)\n",
      "\u001b[31mTypeError\u001b[39m: Expected type int, but got str"
     ]
    }
   ],
   "source": [
    "def check_type(expected_type):\n",
    "    def decorator(func):\n",
    "        def wrapper(arg):\n",
    "            if not isinstance(arg, expected_type):\n",
    "                raise TypeError(f\"Expected type {expected_type.__name__}, but got {type(arg).__name__}\")\n",
    "            return func(arg)\n",
    "        return wrapper\n",
    "    return decorator\n",
    "\n",
    "@check_type(int)\n",
    "def square(n):\n",
    "    return n * n\n",
    "\n",
    "\n",
    "print(square(\"5\"))  \n",
    "\n"
   ]
  },
  {
   "cell_type": "code",
   "execution_count": null,
   "id": "2516809c-c844-4581-9c54-966e4c3e0fe6",
   "metadata": {},
   "outputs": [],
   "source": []
  }
 ],
 "metadata": {
  "kernelspec": {
   "display_name": "Python 3 (ipykernel)",
   "language": "python",
   "name": "python3"
  },
  "language_info": {
   "codemirror_mode": {
    "name": "ipython",
    "version": 3
   },
   "file_extension": ".py",
   "mimetype": "text/x-python",
   "name": "python",
   "nbconvert_exporter": "python",
   "pygments_lexer": "ipython3",
   "version": "3.13.7"
  }
 },
 "nbformat": 4,
 "nbformat_minor": 5
}
