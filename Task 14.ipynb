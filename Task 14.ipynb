{
 "cells": [
  {
   "cell_type": "code",
   "execution_count": 2,
   "id": "52897ae1-5bc5-428d-9a21-5413173b3ab9",
   "metadata": {},
   "outputs": [
    {
     "name": "stdout",
     "output_type": "stream",
     "text": [
      "Top 5 words saved in summary.txt\n"
     ]
    }
   ],
   "source": [
    "#3.Word Frequency Counter\n",
    "#Read a text file and count the frequency of each word.\n",
    "#Store results in a dictionary, sort it by frequency.\n",
    "#Write the top 5 words and their counts to a file summary.txt.\n",
    "\n",
    "with open(\"meow.txt\", \"r\") as file: text = file.read()\n",
    "words = text.split()\n",
    "\n",
    "freq = {}\n",
    "for word in words:\n",
    "    if word in freq:\n",
    "        freq[word] += 1\n",
    "    else:\n",
    "        freq[word] = 1\n",
    "\n",
    "\n",
    "sorted_words = sorted(freq.items(), key=lambda x: x[1], reverse=True)\n",
    "\n",
    "\n",
    "with open(\"summary.txt\", \"w\") as out_file:\n",
    "    for word, count in sorted_words[:5]:\n",
    "        out_file.write(f\"{word}: {count}\\n\")\n",
    "\n",
    "print(\"Top 5 words saved in summary.txt\")\n"
   ]
  },
  {
   "cell_type": "code",
   "execution_count": null,
   "id": "4066ba17-6aff-4206-8e2d-f7e12c7812af",
   "metadata": {},
   "outputs": [],
   "source": []
  }
 ],
 "metadata": {
  "kernelspec": {
   "display_name": "Python 3 (ipykernel)",
   "language": "python",
   "name": "python3"
  },
  "language_info": {
   "codemirror_mode": {
    "name": "ipython",
    "version": 3
   },
   "file_extension": ".py",
   "mimetype": "text/x-python",
   "name": "python",
   "nbconvert_exporter": "python",
   "pygments_lexer": "ipython3",
   "version": "3.13.8"
  }
 },
 "nbformat": 4,
 "nbformat_minor": 5
}
